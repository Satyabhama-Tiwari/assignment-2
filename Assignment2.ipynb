{
  "nbformat": 4,
  "nbformat_minor": 0,
  "metadata": {
    "colab": {
      "provenance": []
    },
    "kernelspec": {
      "name": "python3",
      "display_name": "Python 3"
    },
    "language_info": {
      "name": "python"
    }
  },
  "cells": [
    {
      "cell_type": "markdown",
      "source": [
        "# Q1. String Slicing Examples"
      ],
      "metadata": {
        "id": "_Lg_c3OkaJu9"
      }
    },
    {
      "cell_type": "code",
      "source": [
        "text = \"Hi, How are you?\""
      ],
      "metadata": {
        "id": "Cpnev6x-ZzWN"
      },
      "execution_count": null,
      "outputs": []
    },
    {
      "cell_type": "code",
      "source": [
        "print(text[0:2]) # Basic Slicing\n",
        "print(text[:2]) # Omitting Start\n",
        "print(text[4:]) # Omitting Stop\n",
        "print(text[-10:]) # Negative indices omitting stop\n",
        "print(text[:-4]) # Negative indices omitting start\n",
        "print(text[0:9:2]) # Slicing with Step, here step is of 2 i.e. every second character from starting till 9th position # Also example of complex slicing\n",
        "print(text[::-1]) # Reversing a text"
      ],
      "metadata": {
        "colab": {
          "base_uri": "https://localhost:8080/"
        },
        "id": "j0qnjccwZzT0",
        "outputId": "61319935-2504-451d-987e-2f5922736250"
      },
      "execution_count": null,
      "outputs": [
        {
          "output_type": "stream",
          "name": "stdout",
          "text": [
            "Hi\n",
            "Hi\n",
            "How are you?\n",
            "w are you?\n",
            "Hi, How are \n",
            "H,Hwa\n",
            "?uoy era woH ,iH\n"
          ]
        }
      ]
    },
    {
      "cell_type": "markdown",
      "source": [
        "# Q2. Key feature of Lists in Python"
      ],
      "metadata": {
        "id": "JBSHUCCVcQrd"
      }
    },
    {
      "cell_type": "markdown",
      "source": [
        "### 1- Ordered Collection"
      ],
      "metadata": {
        "id": "_3YH7cVudo2X"
      }
    },
    {
      "cell_type": "code",
      "source": [
        "List1 = [100, 200, 300, 400]\n",
        "print(List1[1])\n",
        "print(List1[3])"
      ],
      "metadata": {
        "colab": {
          "base_uri": "https://localhost:8080/"
        },
        "id": "ipGs0P-fdxiI",
        "outputId": "9ddc9252-66c7-4b0f-dbdc-dfffe25c7e09"
      },
      "execution_count": null,
      "outputs": [
        {
          "output_type": "stream",
          "name": "stdout",
          "text": [
            "200\n",
            "400\n"
          ]
        }
      ]
    },
    {
      "cell_type": "markdown",
      "source": [
        "### 2- Mutuable"
      ],
      "metadata": {
        "id": "3tMfi-gdd16M"
      }
    },
    {
      "cell_type": "code",
      "source": [
        "List1[0] = 500\n",
        "print(List1)"
      ],
      "metadata": {
        "colab": {
          "base_uri": "https://localhost:8080/"
        },
        "id": "VPO30PYGd8AC",
        "outputId": "1ed76aa0-3b5d-4f13-a6e3-3a42af2ea5b7"
      },
      "execution_count": null,
      "outputs": [
        {
          "output_type": "stream",
          "name": "stdout",
          "text": [
            "[500, 200, 300, 400]\n"
          ]
        }
      ]
    },
    {
      "cell_type": "markdown",
      "source": [
        "### 3- Dynamic Size"
      ],
      "metadata": {
        "id": "MPLnZOSkeBQU"
      }
    },
    {
      "cell_type": "code",
      "source": [
        "List1.append(600)\n",
        "print(List1)"
      ],
      "metadata": {
        "colab": {
          "base_uri": "https://localhost:8080/"
        },
        "id": "mrw2tb62eJfx",
        "outputId": "727e44de-182d-460b-c200-6fa622c54dd8"
      },
      "execution_count": null,
      "outputs": [
        {
          "output_type": "stream",
          "name": "stdout",
          "text": [
            "[500, 200, 300, 400, 600]\n"
          ]
        }
      ]
    },
    {
      "cell_type": "code",
      "source": [
        "List1.remove(500)\n",
        "print(List1)"
      ],
      "metadata": {
        "colab": {
          "base_uri": "https://localhost:8080/"
        },
        "id": "U5YXVhFneN21",
        "outputId": "a3cef609-0d27-43e6-8e70-f0239fd37ed5"
      },
      "execution_count": null,
      "outputs": [
        {
          "output_type": "stream",
          "name": "stdout",
          "text": [
            "[200, 300, 400, 600]\n"
          ]
        }
      ]
    },
    {
      "cell_type": "markdown",
      "source": [
        "### 4- Heterogeneous Elements"
      ],
      "metadata": {
        "id": "3DblQnpYeUm6"
      }
    },
    {
      "cell_type": "code",
      "source": [
        "List2 = [100, \"Tom\", 3.14, [10, 20]]\n",
        "print(List2)"
      ],
      "metadata": {
        "colab": {
          "base_uri": "https://localhost:8080/"
        },
        "id": "LH6x6gWTebS7",
        "outputId": "7133b3d5-6a11-4d6a-fe70-155dea8c5e00"
      },
      "execution_count": null,
      "outputs": [
        {
          "output_type": "stream",
          "name": "stdout",
          "text": [
            "[100, 'Tom', 3.14, [10, 20]]\n"
          ]
        }
      ]
    },
    {
      "cell_type": "markdown",
      "source": [
        "### 5- Slicing"
      ],
      "metadata": {
        "id": "LN2dRSA0eeod"
      }
    },
    {
      "cell_type": "code",
      "source": [
        "print(List2[1:3])"
      ],
      "metadata": {
        "colab": {
          "base_uri": "https://localhost:8080/"
        },
        "id": "zMEOzzOMej6k",
        "outputId": "73494d97-8b5b-41d8-ffa5-cc4c73002b2f"
      },
      "execution_count": null,
      "outputs": [
        {
          "output_type": "stream",
          "name": "stdout",
          "text": [
            "['Tom', 3.14]\n"
          ]
        }
      ]
    },
    {
      "cell_type": "markdown",
      "source": [
        "### 6- Built in Methods"
      ],
      "metadata": {
        "id": "Lm5BTMzpel3k"
      }
    },
    {
      "cell_type": "code",
      "source": [
        "List3 = [400, 200, 100, 300]\n",
        "List3.append(500)\n",
        "print(List3)\n",
        "\n",
        "List3.sort()\n",
        "print(List3)\n",
        "\n",
        "List3.reverse()\n",
        "print(List3)"
      ],
      "metadata": {
        "colab": {
          "base_uri": "https://localhost:8080/"
        },
        "id": "oCt5ZDaHetSC",
        "outputId": "d9fd790e-9464-459e-94cc-92c06092b928"
      },
      "execution_count": null,
      "outputs": [
        {
          "output_type": "stream",
          "name": "stdout",
          "text": [
            "[400, 200, 100, 300, 500]\n",
            "[100, 200, 300, 400, 500]\n",
            "[500, 400, 300, 200, 100]\n"
          ]
        }
      ]
    },
    {
      "cell_type": "markdown",
      "source": [
        "### 7- Iteration"
      ],
      "metadata": {
        "id": "lvneyT-ue0op"
      }
    },
    {
      "cell_type": "code",
      "source": [
        "List2 = [100, \"Tom\", 3.14, [10, 20]]\n",
        "for i in List2:\n",
        "    print(i)"
      ],
      "metadata": {
        "colab": {
          "base_uri": "https://localhost:8080/"
        },
        "id": "wuaJfMWWe0U1",
        "outputId": "c809faa7-f367-4832-b997-5499229e5b34"
      },
      "execution_count": null,
      "outputs": [
        {
          "output_type": "stream",
          "name": "stdout",
          "text": [
            "100\n",
            "Tom\n",
            "3.14\n",
            "[10, 20]\n"
          ]
        }
      ]
    },
    {
      "cell_type": "markdown",
      "source": [
        "### 8- List Comprehensions"
      ],
      "metadata": {
        "id": "Y93kMwuye85w"
      }
    },
    {
      "cell_type": "code",
      "source": [
        "cubes = [x ** 3 for x in range(10)]\n",
        "print(cubes)"
      ],
      "metadata": {
        "colab": {
          "base_uri": "https://localhost:8080/"
        },
        "id": "5ieaAuUpfCmh",
        "outputId": "5d42ebda-78dc-49cc-f78f-1bc1ea30d736"
      },
      "execution_count": null,
      "outputs": [
        {
          "output_type": "stream",
          "name": "stdout",
          "text": [
            "[0, 1, 8, 27, 64, 125, 216, 343, 512, 729]\n"
          ]
        }
      ]
    },
    {
      "cell_type": "markdown",
      "source": [
        "### 9- Nested Lists"
      ],
      "metadata": {
        "id": "rEVANq_XfIOg"
      }
    },
    {
      "cell_type": "code",
      "source": [
        "nested_list = [[1, 2, 3], [4, 5, 6], [7, 8, 9]]\n",
        "print(nested_list[1])\n",
        "print(nested_list[2][2])"
      ],
      "metadata": {
        "colab": {
          "base_uri": "https://localhost:8080/"
        },
        "id": "z7yzjNdNfMRH",
        "outputId": "731b3acc-5d68-4c20-be03-688b597c97e9"
      },
      "execution_count": null,
      "outputs": [
        {
          "output_type": "stream",
          "name": "stdout",
          "text": [
            "[4, 5, 6]\n",
            "9\n"
          ]
        }
      ]
    },
    {
      "cell_type": "markdown",
      "source": [
        "### 10- Membership Testing"
      ],
      "metadata": {
        "id": "axiYPEIbfSLV"
      }
    },
    {
      "cell_type": "code",
      "execution_count": null,
      "metadata": {
        "colab": {
          "base_uri": "https://localhost:8080/"
        },
        "id": "6IHB67k8ZwmX",
        "outputId": "6ab56cbb-5db5-4421-b1c6-4d6a2cbdbab9"
      },
      "outputs": [
        {
          "output_type": "stream",
          "name": "stdout",
          "text": [
            "True\n",
            "False\n"
          ]
        }
      ],
      "source": [
        "List5 = [100, 200, 300, 400]\n",
        "print(200 in List5)\n",
        "print(400 not in List5)"
      ]
    },
    {
      "cell_type": "markdown",
      "source": [
        "# Q3. Accessing, Modifying and Deleting in List"
      ],
      "metadata": {
        "id": "OftXyAeRiwsz"
      }
    },
    {
      "cell_type": "markdown",
      "source": [
        "### 1- Accessing in a List"
      ],
      "metadata": {
        "id": "qpcoTMSYi_fi"
      }
    },
    {
      "cell_type": "code",
      "source": [
        "List6 = [2,4,6,8,10]\n",
        "print(List6[3]) # Accessing in a list\n",
        "print(List6[0])\n",
        "print(List6[-1]) # Accessing through negative indexing\n",
        "print(List6[0:3]) # Accessing through slicing"
      ],
      "metadata": {
        "colab": {
          "base_uri": "https://localhost:8080/"
        },
        "id": "FCqgAQa5fgfA",
        "outputId": "b5c9bc55-00c8-4d60-a5ef-fb725b0d8fb4"
      },
      "execution_count": null,
      "outputs": [
        {
          "output_type": "stream",
          "name": "stdout",
          "text": [
            "8\n",
            "2\n",
            "10\n",
            "[2, 4, 6]\n"
          ]
        }
      ]
    },
    {
      "cell_type": "markdown",
      "source": [
        "### 2- Modifying in List"
      ],
      "metadata": {
        "id": "_zEoFAgakbwU"
      }
    },
    {
      "cell_type": "code",
      "source": [
        "List6[2] = 12\n",
        "print(List6)\n",
        "\n",
        "List6[-2] =16\n",
        "print(List6)\n",
        "\n",
        "List6[0:2] = [4,8]\n",
        "print(List6)"
      ],
      "metadata": {
        "colab": {
          "base_uri": "https://localhost:8080/"
        },
        "id": "LMfuzuLij67i",
        "outputId": "7df2f025-bfad-43e5-8bbd-f2588be7e876"
      },
      "execution_count": null,
      "outputs": [
        {
          "output_type": "stream",
          "name": "stdout",
          "text": [
            "[2, 4, 12, 16, 10]\n",
            "[2, 4, 12, 16, 10]\n",
            "[4, 8, 12, 16, 10]\n"
          ]
        }
      ]
    },
    {
      "cell_type": "code",
      "source": [
        "List6.append(20)\n",
        "print(List6)\n",
        "\n",
        "List6.extend([40,60])\n",
        "print(List6)\n",
        "\n",
        "List6.insert(5,18)\n",
        "print(List6)"
      ],
      "metadata": {
        "colab": {
          "base_uri": "https://localhost:8080/"
        },
        "id": "VDsW9sh7ku5o",
        "outputId": "73b48bcd-5491-4684-cd5c-3368483958c3"
      },
      "execution_count": null,
      "outputs": [
        {
          "output_type": "stream",
          "name": "stdout",
          "text": [
            "[4, 8, 12, 16, 10, 20]\n",
            "[4, 8, 12, 16, 10, 20, 40, 60]\n",
            "[4, 8, 12, 16, 10, 18, 20, 40, 60]\n"
          ]
        }
      ]
    },
    {
      "cell_type": "markdown",
      "source": [
        "### 3- Deleting in List"
      ],
      "metadata": {
        "id": "igz1-nt9ltbo"
      }
    },
    {
      "cell_type": "code",
      "source": [
        "List7 = [10, 20, 30, 40, 50]\n",
        "\n",
        "del List7[4] # Deleting an element by index\n",
        "print(List7)\n",
        "\n",
        "del List7[1:3] # Deleting slice of elements\n",
        "print(List7)"
      ],
      "metadata": {
        "colab": {
          "base_uri": "https://localhost:8080/"
        },
        "id": "UmQIoQfBmgal",
        "outputId": "488a8c43-93d0-4b3f-ef62-9ca581af581f"
      },
      "execution_count": null,
      "outputs": [
        {
          "output_type": "stream",
          "name": "stdout",
          "text": [
            "[10, 20, 30, 40]\n",
            "[10, 40]\n"
          ]
        }
      ]
    },
    {
      "cell_type": "code",
      "source": [
        "List8 = [100, 150, 200, 250, 150, 250, 300]\n",
        "\n",
        "List8.remove(150) # Remove the first occurrence of 150\n",
        "print(List8)"
      ],
      "metadata": {
        "colab": {
          "base_uri": "https://localhost:8080/"
        },
        "id": "bGoMfwCVmj-d",
        "outputId": "418ea30f-0806-43b2-9641-ddbf1ba1d244"
      },
      "execution_count": null,
      "outputs": [
        {
          "output_type": "stream",
          "name": "stdout",
          "text": [
            "[100, 200, 250, 150, 250, 300]\n"
          ]
        }
      ]
    },
    {
      "cell_type": "code",
      "source": [
        "List9 = [10, 20, 30, 40, 50]\n",
        "\n",
        "popped_element = List9.pop() # removes last element\n",
        "print(popped_element)\n",
        "print(List9)\n",
        "\n",
        "\n",
        "popped_element = List9.pop(1) # removes an element at the index mentioned\n",
        "print(popped_element)\n",
        "print(List9)\n",
        "\n",
        "\n",
        "List9.clear() # removes every element from the list\n",
        "print(List9)"
      ],
      "metadata": {
        "colab": {
          "base_uri": "https://localhost:8080/"
        },
        "id": "_Snvlhg-lpWJ",
        "outputId": "76e2755d-65f8-4b60-e2df-a00baa1f4eb3"
      },
      "execution_count": null,
      "outputs": [
        {
          "output_type": "stream",
          "name": "stdout",
          "text": [
            "50\n",
            "[10, 20, 30, 40]\n",
            "20\n",
            "[10, 30, 40]\n",
            "[]\n"
          ]
        }
      ]
    },
    {
      "cell_type": "markdown",
      "source": [
        "# Q4. Comapring List and Tuples"
      ],
      "metadata": {
        "id": "Bbre4rb-oNmy"
      }
    },
    {
      "cell_type": "markdown",
      "source": [
        "### 1- Mutability and Syntax"
      ],
      "metadata": {
        "id": "5ntrABa9ol3O"
      }
    },
    {
      "cell_type": "code",
      "source": [
        "# List is mutable\n",
        "List = [100, 200, 300] # Syntax for list\n",
        "List[2] = 400\n",
        "print(List)"
      ],
      "metadata": {
        "colab": {
          "base_uri": "https://localhost:8080/"
        },
        "id": "IlfoJ_EmoLiS",
        "outputId": "8c13ce54-64f9-4d1e-ddca-88bae73c22f8"
      },
      "execution_count": null,
      "outputs": [
        {
          "output_type": "stream",
          "name": "stdout",
          "text": [
            "[100, 200, 400]\n"
          ]
        }
      ]
    },
    {
      "cell_type": "code",
      "source": [
        "# Tuple is immutable\n",
        "t = (100, 200, 300) # Syntax for tuple\n",
        "t[2] = 400"
      ],
      "metadata": {
        "colab": {
          "base_uri": "https://localhost:8080/",
          "height": 176
        },
        "id": "kE-MAhn0os_i",
        "outputId": "d60ddc87-ad1e-43b6-a005-025b094a3dbe"
      },
      "execution_count": null,
      "outputs": [
        {
          "output_type": "error",
          "ename": "TypeError",
          "evalue": "'tuple' object does not support item assignment",
          "traceback": [
            "\u001b[0;31m---------------------------------------------------------------------------\u001b[0m",
            "\u001b[0;31mTypeError\u001b[0m                                 Traceback (most recent call last)",
            "\u001b[0;32m<ipython-input-60-d83edc4d71b3>\u001b[0m in \u001b[0;36m<cell line: 3>\u001b[0;34m()\u001b[0m\n\u001b[1;32m      1\u001b[0m \u001b[0;31m# Tuple is immutable\u001b[0m\u001b[0;34m\u001b[0m\u001b[0;34m\u001b[0m\u001b[0m\n\u001b[1;32m      2\u001b[0m \u001b[0mt\u001b[0m \u001b[0;34m=\u001b[0m \u001b[0;34m(\u001b[0m\u001b[0;36m100\u001b[0m\u001b[0;34m,\u001b[0m \u001b[0;36m200\u001b[0m\u001b[0;34m,\u001b[0m \u001b[0;36m300\u001b[0m\u001b[0;34m)\u001b[0m\u001b[0;34m\u001b[0m\u001b[0;34m\u001b[0m\u001b[0m\n\u001b[0;32m----> 3\u001b[0;31m \u001b[0mt\u001b[0m\u001b[0;34m[\u001b[0m\u001b[0;36m2\u001b[0m\u001b[0;34m]\u001b[0m \u001b[0;34m=\u001b[0m \u001b[0;36m400\u001b[0m\u001b[0;34m\u001b[0m\u001b[0;34m\u001b[0m\u001b[0m\n\u001b[0m",
            "\u001b[0;31mTypeError\u001b[0m: 'tuple' object does not support item assignment"
          ]
        }
      ]
    },
    {
      "cell_type": "markdown",
      "source": [
        "### 3- Use Case"
      ],
      "metadata": {
        "id": "YSfEUVCxpiM0"
      }
    },
    {
      "cell_type": "code",
      "source": [
        "# List - dynamic, may change during execution\n",
        "car_list = ['TATA', 'Mahindra', 'Mercedes', 'Audi']\n",
        "print(car_list)\n",
        "\n",
        "# Tuple - constant, fixed data\n",
        "India_coordinates = (20.5937, 78.9629)  # (latitude, longitude)\n",
        "print(India_coordinates)"
      ],
      "metadata": {
        "colab": {
          "base_uri": "https://localhost:8080/"
        },
        "id": "jkAGo6pOo0Bq",
        "outputId": "b054cd65-d974-41bf-bf26-82bc13afeb53"
      },
      "execution_count": null,
      "outputs": [
        {
          "output_type": "stream",
          "name": "stdout",
          "text": [
            "['TATA', 'Mahindra', 'Mercedes', 'Audi']\n",
            "(20.5937, 78.9629)\n"
          ]
        }
      ]
    },
    {
      "cell_type": "markdown",
      "source": [
        "### 4- Methods"
      ],
      "metadata": {
        "id": "xv80UNLApqIx"
      }
    },
    {
      "cell_type": "code",
      "source": [
        "# List methods\n",
        "car_list = ['TATA', 'Mahindra', 'Mercedes', 'Audi']\n",
        "car_list.append('BMW')  # Adding an element\n",
        "print(car_list)\n",
        "\n",
        "# Tuple methods\n",
        "t = (1, 1, 2, 2, 2, 3)\n",
        "print(t.count(2))\n",
        "print(t.index(3))"
      ],
      "metadata": {
        "colab": {
          "base_uri": "https://localhost:8080/"
        },
        "id": "tkZ9VI4Gp00y",
        "outputId": "ee8125a0-856c-4ad1-8b8f-93cb8c4de2fd"
      },
      "execution_count": null,
      "outputs": [
        {
          "output_type": "stream",
          "name": "stdout",
          "text": [
            "['TATA', 'Mahindra', 'Mercedes', 'Audi', 'BMW']\n",
            "3\n",
            "5\n"
          ]
        }
      ]
    },
    {
      "cell_type": "markdown",
      "source": [
        "### 5- Immutability and Hashability"
      ],
      "metadata": {
        "id": "MMknMacup4aZ"
      }
    },
    {
      "cell_type": "code",
      "source": [
        "# List mutation affects the original list\n",
        "car_list = ['TATA', 'Mahindra', 'Mercedes', 'Audi']\n",
        "car_list[2] = 'Volkswagon'\n",
        "print(car_list)\n",
        "\n",
        "# Tuple containing a list\n",
        "t = (5, 3, [9, 15], 10)\n",
        "t[2][1] = 18\n",
        "print(t)"
      ],
      "metadata": {
        "colab": {
          "base_uri": "https://localhost:8080/"
        },
        "id": "tiiVpCIJqBaC",
        "outputId": "c0f95008-e476-4713-add9-d89ef20b5d0b"
      },
      "execution_count": null,
      "outputs": [
        {
          "output_type": "stream",
          "name": "stdout",
          "text": [
            "['TATA', 'Mahindra', 'Volkswagon', 'Audi']\n",
            "(5, 3, [9, 18], 10)\n"
          ]
        }
      ]
    },
    {
      "cell_type": "code",
      "source": [
        "# List cannot be used as a dictionary key\n",
        "my_dict = {[1, 2]: \"value\"}  # This will raise a TypeError"
      ],
      "metadata": {
        "colab": {
          "base_uri": "https://localhost:8080/",
          "height": 159
        },
        "id": "KCBfvCtgqK8m",
        "outputId": "32189aeb-5a18-4671-f825-d796a2ba8ec9"
      },
      "execution_count": null,
      "outputs": [
        {
          "output_type": "error",
          "ename": "TypeError",
          "evalue": "unhashable type: 'list'",
          "traceback": [
            "\u001b[0;31m---------------------------------------------------------------------------\u001b[0m",
            "\u001b[0;31mTypeError\u001b[0m                                 Traceback (most recent call last)",
            "\u001b[0;32m<ipython-input-67-a125a7d003a3>\u001b[0m in \u001b[0;36m<cell line: 2>\u001b[0;34m()\u001b[0m\n\u001b[1;32m      1\u001b[0m \u001b[0;31m# List cannot be used as a dictionary key\u001b[0m\u001b[0;34m\u001b[0m\u001b[0;34m\u001b[0m\u001b[0m\n\u001b[0;32m----> 2\u001b[0;31m \u001b[0mmy_dict\u001b[0m \u001b[0;34m=\u001b[0m \u001b[0;34m{\u001b[0m\u001b[0;34m[\u001b[0m\u001b[0;36m1\u001b[0m\u001b[0;34m,\u001b[0m \u001b[0;36m2\u001b[0m\u001b[0;34m]\u001b[0m\u001b[0;34m:\u001b[0m \u001b[0;34m\"value\"\u001b[0m\u001b[0;34m}\u001b[0m  \u001b[0;31m# This will raise a TypeError\u001b[0m\u001b[0;34m\u001b[0m\u001b[0;34m\u001b[0m\u001b[0m\n\u001b[0m",
            "\u001b[0;31mTypeError\u001b[0m: unhashable type: 'list'"
          ]
        }
      ]
    },
    {
      "cell_type": "code",
      "source": [
        "# Tuple can be used as a dictionary key\n",
        "my_dict = {(2, 4): \"even\"}\n",
        "print(my_dict)"
      ],
      "metadata": {
        "colab": {
          "base_uri": "https://localhost:8080/"
        },
        "id": "tRJ8hv8bsugu",
        "outputId": "00e53ab5-0dd1-496c-949f-5e48fa6b31cd"
      },
      "execution_count": null,
      "outputs": [
        {
          "output_type": "stream",
          "name": "stdout",
          "text": [
            "{(2, 4): 'even'}\n"
          ]
        }
      ]
    },
    {
      "cell_type": "markdown",
      "source": [
        "# Q5. Key features of Sets"
      ],
      "metadata": {
        "id": "Y-qwL4FIqGTP"
      }
    },
    {
      "cell_type": "markdown",
      "source": [
        "### 1- Unordered Collection"
      ],
      "metadata": {
        "id": "1QZK6U9CpSRC"
      }
    },
    {
      "cell_type": "code",
      "source": [
        "s = {1, 2, 3, 4}\n",
        "print(s)"
      ],
      "metadata": {
        "id": "t4SbphqFqbg6",
        "colab": {
          "base_uri": "https://localhost:8080/"
        },
        "outputId": "026756f9-92dc-41ed-96d5-3d6057e41a1c"
      },
      "execution_count": 1,
      "outputs": [
        {
          "output_type": "stream",
          "name": "stdout",
          "text": [
            "{1, 2, 3, 4}\n"
          ]
        }
      ]
    },
    {
      "cell_type": "markdown",
      "source": [
        "### 2- Unique Elements"
      ],
      "metadata": {
        "id": "XCJJshAqpwi7"
      }
    },
    {
      "cell_type": "code",
      "source": [
        "s = {1, 1, 1, 1, 2, 2, 2, 3, 3, 4}\n",
        "print(s)"
      ],
      "metadata": {
        "colab": {
          "base_uri": "https://localhost:8080/"
        },
        "id": "vpVmec_vpsz6",
        "outputId": "26b70960-c432-4cc1-97a5-cb3eda72d834"
      },
      "execution_count": 2,
      "outputs": [
        {
          "output_type": "stream",
          "name": "stdout",
          "text": [
            "{1, 2, 3, 4}\n"
          ]
        }
      ]
    },
    {
      "cell_type": "markdown",
      "source": [
        "### 3- Mutable"
      ],
      "metadata": {
        "id": "VmfbZ7E7p8Nu"
      }
    },
    {
      "cell_type": "code",
      "source": [
        "s = {1, 2, 3}\n",
        "s.add(4)\n",
        "print(s)\n",
        "\n",
        "s.remove(1)\n",
        "print(s)"
      ],
      "metadata": {
        "colab": {
          "base_uri": "https://localhost:8080/"
        },
        "id": "ExsE1OCDp7Uk",
        "outputId": "7e767ebf-90ee-40e9-f83b-faec1492b64c"
      },
      "execution_count": 5,
      "outputs": [
        {
          "output_type": "stream",
          "name": "stdout",
          "text": [
            "{1, 2, 3, 4}\n",
            "{2, 3, 4}\n"
          ]
        }
      ]
    },
    {
      "cell_type": "markdown",
      "source": [
        "### 4- No indexing or slicing"
      ],
      "metadata": {
        "id": "dc_KeFOVqRyF"
      }
    },
    {
      "cell_type": "code",
      "source": [
        "s = {1, 2, 3}\n",
        "print(s[0])"
      ],
      "metadata": {
        "colab": {
          "base_uri": "https://localhost:8080/",
          "height": 159
        },
        "id": "IwelxsswqILq",
        "outputId": "ee9c3e5f-dc9f-4c5d-aa00-3b6ca733bf9b"
      },
      "execution_count": 6,
      "outputs": [
        {
          "output_type": "error",
          "ename": "TypeError",
          "evalue": "'set' object is not subscriptable",
          "traceback": [
            "\u001b[0;31m---------------------------------------------------------------------------\u001b[0m",
            "\u001b[0;31mTypeError\u001b[0m                                 Traceback (most recent call last)",
            "\u001b[0;32m<ipython-input-6-57de2ead9154>\u001b[0m in \u001b[0;36m<cell line: 2>\u001b[0;34m()\u001b[0m\n\u001b[1;32m      1\u001b[0m \u001b[0ms\u001b[0m \u001b[0;34m=\u001b[0m \u001b[0;34m{\u001b[0m\u001b[0;36m1\u001b[0m\u001b[0;34m,\u001b[0m \u001b[0;36m2\u001b[0m\u001b[0;34m,\u001b[0m \u001b[0;36m3\u001b[0m\u001b[0;34m}\u001b[0m\u001b[0;34m\u001b[0m\u001b[0;34m\u001b[0m\u001b[0m\n\u001b[0;32m----> 2\u001b[0;31m \u001b[0mprint\u001b[0m\u001b[0;34m(\u001b[0m\u001b[0ms\u001b[0m\u001b[0;34m[\u001b[0m\u001b[0;36m0\u001b[0m\u001b[0;34m]\u001b[0m\u001b[0;34m)\u001b[0m\u001b[0;34m\u001b[0m\u001b[0;34m\u001b[0m\u001b[0m\n\u001b[0m",
            "\u001b[0;31mTypeError\u001b[0m: 'set' object is not subscriptable"
          ]
        }
      ]
    },
    {
      "cell_type": "markdown",
      "source": [
        "### 5- Membership Testing"
      ],
      "metadata": {
        "id": "cVQOPPGGqbVS"
      }
    },
    {
      "cell_type": "code",
      "source": [
        "s = {1, 2, 3}\n",
        "print(2 in s)\n",
        "print(1 not in s)"
      ],
      "metadata": {
        "colab": {
          "base_uri": "https://localhost:8080/"
        },
        "id": "AOkEmBJ3qZ-K",
        "outputId": "12140f8a-1570-450a-b404-38ffe4afbe38"
      },
      "execution_count": 7,
      "outputs": [
        {
          "output_type": "stream",
          "name": "stdout",
          "text": [
            "True\n",
            "False\n"
          ]
        }
      ]
    },
    {
      "cell_type": "markdown",
      "source": [
        "### 6- Set Operations"
      ],
      "metadata": {
        "id": "WBu0qnvtq6O1"
      }
    },
    {
      "cell_type": "code",
      "source": [
        "# Union\n",
        "set1 = {1, 2, 3}\n",
        "set2 = {3, 4, 5}\n",
        "union_set = set1 | set2\n",
        "print(union_set)\n",
        "\n",
        "# Intersection\n",
        "set1 = {1, 2, 3}\n",
        "set2 = {2, 3, 4}\n",
        "intersection_set = set1 & set2\n",
        "print(intersection_set)\n",
        "\n",
        "#Set Difference\n",
        "set1 = {1, 2, 3}\n",
        "set2 = {2, 3, 4}\n",
        "difference_set = set1 - set2\n",
        "print(difference_set)\n",
        "\n",
        "#Symmetric Difference\n",
        "set1 = {1, 2, 3}\n",
        "set2 = {2, 3, 4}\n",
        "sym_diff_set = set1 ^ set2\n",
        "print(sym_diff_set)"
      ],
      "metadata": {
        "colab": {
          "base_uri": "https://localhost:8080/"
        },
        "id": "9w1jj2o6q5fP",
        "outputId": "05459457-6776-45c3-d626-dbf77df5c380"
      },
      "execution_count": 8,
      "outputs": [
        {
          "output_type": "stream",
          "name": "stdout",
          "text": [
            "{1, 2, 3, 4, 5}\n",
            "{2, 3}\n",
            "{1}\n",
            "{1, 4}\n"
          ]
        }
      ]
    },
    {
      "cell_type": "markdown",
      "source": [
        "# Q7 Add, Modify and Delete Items in a Dictionary"
      ],
      "metadata": {
        "id": "jBjUb0vQrpHh"
      }
    },
    {
      "cell_type": "markdown",
      "source": [
        "### 1- Adding Item to Dictionary\n",
        "\n",
        "\n"
      ],
      "metadata": {
        "id": "pFvNRfrKsVLf"
      }
    },
    {
      "cell_type": "code",
      "source": [
        "# Example: Adding a new key-value pair\n",
        "d1 = {\"subject\": \"Data Analysis\", \"Assigment\": 2}\n",
        "d1[\"first name\"] = \"Satyabhama\"\n",
        "\n",
        "print(d1)\n",
        "\n",
        "\n",
        "# Example: Using update() to add multiple key-value pairs\n",
        "d2 = {\"subject\": \"Data Analysis\", \"Assigment\": 2}\n",
        "d2.update({\"first name\": \"Satyabhama\", \"last name\": \"Tiwari\"})\n",
        "\n",
        "print(d2)"
      ],
      "metadata": {
        "colab": {
          "base_uri": "https://localhost:8080/"
        },
        "id": "7icTA9Ycrnj6",
        "outputId": "69244c2b-c6a9-4044-f5f5-2ad2658824dc"
      },
      "execution_count": 9,
      "outputs": [
        {
          "output_type": "stream",
          "name": "stdout",
          "text": [
            "{'subject': 'Data Analysis', 'Assigment': 2, 'first name': 'Satyabhama'}\n",
            "{'subject': 'Data Analysis', 'Assigment': 2, 'first name': 'Satyabhama', 'last name': 'Tiwari'}\n"
          ]
        }
      ]
    },
    {
      "cell_type": "markdown",
      "source": [
        "### 2- Modifying Items in a Dictionary"
      ],
      "metadata": {
        "id": "GhrqbXg2u2Jj"
      }
    },
    {
      "cell_type": "code",
      "source": [
        "# Example: Modifying a value\n",
        "d3 = {\"subject\": \"Data Analysis\", \"Assigment\": 1, \"first name\": \"Satyabhama\", \"last name\": \"Tiwari\"}\n",
        "d3[\"Assigment\"] = 1\n",
        "\n",
        "print(d3)\n",
        "\n",
        "# Example: Using update()\n",
        "d3.update({\"subject\": \"Data Science\"})\n",
        "\n",
        "print(d3)"
      ],
      "metadata": {
        "colab": {
          "base_uri": "https://localhost:8080/"
        },
        "id": "IIyQ46XZuuQY",
        "outputId": "8f2cdd79-ba98-4f81-9e5d-628f1a928afa"
      },
      "execution_count": 11,
      "outputs": [
        {
          "output_type": "stream",
          "name": "stdout",
          "text": [
            "{'subject': 'Data Analysis', 'Assigment': 1, 'first name': 'Satyabhama', 'last name': 'Tiwari'}\n",
            "{'subject': 'Data Science', 'Assigment': 1, 'first name': 'Satyabhama', 'last name': 'Tiwari'}\n"
          ]
        }
      ]
    },
    {
      "cell_type": "markdown",
      "source": [
        "### 3- Deleting Items from Dictionary"
      ],
      "metadata": {
        "id": "Lb8oAOUmvyV0"
      }
    },
    {
      "cell_type": "code",
      "source": [
        "# Example: Deleting a key-value pair using del\n",
        "d4 = {\"subject\": \"Data Analysis\", \"Assigment\": 2, \"first name\": \"Satyabhama\", \"last name\": \"Tiwari\"}\n",
        "del d4[\"last name\"]\n",
        "\n",
        "print(d4)\n",
        "\n",
        "# Example: Deleting a key-value pair using pop\n",
        "first_name = d4.pop(\"first name\") # returns value\n",
        "\n",
        "print(d4)\n",
        "print(first_name)\n",
        "\n",
        "# Example: Deleting the last key-value pair using popitem\n",
        "last_item = d4.popitem()\n",
        "\n",
        "print(d4)\n",
        "print(last_item)\n",
        "\n",
        "# Example: Removing all key-value pairs using clear\n",
        "d4.clear()\n",
        "print(d4)"
      ],
      "metadata": {
        "colab": {
          "base_uri": "https://localhost:8080/"
        },
        "id": "eMG3LGIIvQgJ",
        "outputId": "fb4a086d-4339-4a90-e5d4-ea7f888052a8"
      },
      "execution_count": 12,
      "outputs": [
        {
          "output_type": "stream",
          "name": "stdout",
          "text": [
            "{'subject': 'Data Analysis', 'Assigment': 2, 'first name': 'Satyabhama'}\n",
            "{'subject': 'Data Analysis', 'Assigment': 2}\n",
            "Satyabhama\n",
            "{'subject': 'Data Analysis'}\n",
            "('Assigment', 2)\n",
            "{}\n"
          ]
        }
      ]
    },
    {
      "cell_type": "markdown",
      "source": [
        "# Q8 Importance of Dictionary keys being immuatble"
      ],
      "metadata": {
        "id": "ffms4egjxFaL"
      }
    },
    {
      "cell_type": "markdown",
      "source": [
        "### 1- Using Immutable keys"
      ],
      "metadata": {
        "id": "56dxgwhMyDgg"
      }
    },
    {
      "cell_type": "code",
      "source": [
        "# Example of using strings (immutable) as dictionary keys\n",
        "d5 = {\"subject\": \"Data Analysis\", \"Assigment\": 2, \"first name\": \"Satyabhama\", \"last name\": \"Tiwari\"}\n",
        "\n",
        "# Accessing a value by its key\n",
        "print(d5[\"first name\"])\n",
        "\n",
        "\n",
        "# Using a tuple (immutable) as a dictionary key\n",
        "lat_long_place = {(28.7041, 77.1025): \"New Delhi\", (19.0760, 72.8777): \"Mumbai\", (13.0843, 80.2705): \"Chennai\", (22.5744, 88.3629) : \"Kolkata\"}\n",
        "\n",
        "# Accessing the value by using a tuple key\n",
        "print(lat_long_place[(19.0760, 72.8777)])"
      ],
      "metadata": {
        "colab": {
          "base_uri": "https://localhost:8080/"
        },
        "id": "f7tt6dQTw9WC",
        "outputId": "b133aeb6-0138-4e00-90d9-8fb6b4a8fa20"
      },
      "execution_count": 13,
      "outputs": [
        {
          "output_type": "stream",
          "name": "stdout",
          "text": [
            "Satyabhama\n",
            "Mumbai\n"
          ]
        }
      ]
    },
    {
      "cell_type": "markdown",
      "source": [
        "### 2- Using Mutable keys"
      ],
      "metadata": {
        "id": "oyJidaWpzn2R"
      }
    },
    {
      "cell_type": "code",
      "source": [
        "# Trying to use a list (mutable) as a key (which will cause an error)\n",
        "my_dict = {[1, 2, 3]: \"This will not work\"}"
      ],
      "metadata": {
        "colab": {
          "base_uri": "https://localhost:8080/",
          "height": 159
        },
        "id": "GA4bxTbTzmC2",
        "outputId": "4f3a2927-2a83-48b5-c5f2-7cf05a9f891c"
      },
      "execution_count": 14,
      "outputs": [
        {
          "output_type": "error",
          "ename": "TypeError",
          "evalue": "unhashable type: 'list'",
          "traceback": [
            "\u001b[0;31m---------------------------------------------------------------------------\u001b[0m",
            "\u001b[0;31mTypeError\u001b[0m                                 Traceback (most recent call last)",
            "\u001b[0;32m<ipython-input-14-c3473e5d7452>\u001b[0m in \u001b[0;36m<cell line: 2>\u001b[0;34m()\u001b[0m\n\u001b[1;32m      1\u001b[0m \u001b[0;31m# Trying to use a list (mutable) as a key (which will cause an error)\u001b[0m\u001b[0;34m\u001b[0m\u001b[0;34m\u001b[0m\u001b[0m\n\u001b[0;32m----> 2\u001b[0;31m \u001b[0mmy_dict\u001b[0m \u001b[0;34m=\u001b[0m \u001b[0;34m{\u001b[0m\u001b[0;34m[\u001b[0m\u001b[0;36m1\u001b[0m\u001b[0;34m,\u001b[0m \u001b[0;36m2\u001b[0m\u001b[0;34m,\u001b[0m \u001b[0;36m3\u001b[0m\u001b[0;34m]\u001b[0m\u001b[0;34m:\u001b[0m \u001b[0;34m\"This will not work\"\u001b[0m\u001b[0;34m}\u001b[0m\u001b[0;34m\u001b[0m\u001b[0;34m\u001b[0m\u001b[0m\n\u001b[0m",
            "\u001b[0;31mTypeError\u001b[0m: unhashable type: 'list'"
          ]
        }
      ]
    },
    {
      "cell_type": "code",
      "source": [],
      "metadata": {
        "id": "OyrWIgf3z58H"
      },
      "execution_count": null,
      "outputs": []
    }
  ]
}